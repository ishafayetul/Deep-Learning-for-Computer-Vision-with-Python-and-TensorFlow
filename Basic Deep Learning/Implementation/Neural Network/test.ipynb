{
 "cells": [
  {
   "cell_type": "code",
   "execution_count": 8,
   "id": "8e37fd8b",
   "metadata": {},
   "outputs": [],
   "source": [
    "#from OneNeuronNetwork_Numpy import OneNeuron\n",
    "import numpy as np\n",
    "import pandas as pd"
   ]
  },
  {
   "cell_type": "code",
   "execution_count": null,
   "id": "15629890",
   "metadata": {},
   "outputs": [],
   "source": [
    "import numpy as np\n",
    "\n",
    "class OneNeuron:\n",
    "    def __init__(self,input_size,output_size):\n",
    "        self.row,self.col=input_size\n",
    "        self.output_size=output_size\n",
    "\n",
    "        self.w1=np.random.rand(1)\n",
    "        self.w2=np.random.rand(1)\n",
    "        self.b=np.random.rand(1)\n",
    "    \n",
    "    def sigmoid(self,z):\n",
    "        return 1/(1+np.exp(-z)) \n",
    "    \n",
    "    def forward(self,x):\n",
    "        self.z=self.w1*x[:,0]+self.w2*x[:,1]+self.b\n",
    "        self.p=self.sigmoid(self.z)\n",
    "        return self.p\n",
    "    \n",
    "    def calcuLoss(self,y_true,y_pred):\n",
    "        epsilon=1e-15\n",
    "        y_pred = [max(i, epsilon) for i in y_pred]\n",
    "        y_pred = [min(i, 1-epsilon) for i in y_pred]\n",
    "        y_pred = np.array(y_pred)\n",
    "        return np.mean(-y_true*np.log(y_pred)-(1-y_true)*np.log(1-y_pred))\n",
    "    \n",
    "    def derivative(self,x,y_true,y_pred):\n",
    "\n",
    "        dw1=((y_pred-y_true)*x[:,0])/self.row\n",
    "        dw2=((y_pred-y_true)*x[:,1])/self.row\n",
    "        db=(y_pred-y_true)/self.row\n",
    "        return dw1,dw2,db\n",
    "    \n",
    "    def update_weights(self,learning_rate):\n",
    "        self.w1=self.w1-learning_rate*self.dw1\n",
    "        self.w2=self.w2-learning_rate*self.dw2\n",
    "        self.b=self.b-learning_rate*self.db\n",
    "    \n",
    "    def accuracy(self,y_true,y_pred):\n",
    "        y_pred=(y_pred>0.5).astype(int)\n",
    "        accuracy=np.mean(y_true==y_pred)\n",
    "        return accuracy\n",
    "    \n",
    "    def predict(self,x):\n",
    "        y_pred=self.forward(x)\n",
    "        return y_pred\n",
    "\n",
    "    def train(self,x,y_true,learning_rate):\n",
    "        y_pred=self.forward(x)\n",
    "        loss=self.calcuLoss(y_true,y_pred)\n",
    "        accuracy=self.accuracy(y_true,y_pred)\n",
    "        self.dw1,self.dw2,self.db=self.derivative(x,y_true,y_pred)\n",
    "        self.update_weights(learning_rate)\n",
    "        return loss,accuracy\n",
    "    \n",
    "    def fit(self,x,y_true,epochs,learning_rate):\n",
    "        for i in range(epochs):\n",
    "            self.loss,self.accuracy=self.train(x,y_true,learning_rate)\n",
    "        print(f\"Epoch {i+1}/{epochs}, Loss: {self.loss}, Accuracy: {self.accuracy}\")\n",
    "    \n",
    "    def getParameters(self):\n",
    "        return self.w1,self.w2,self.b \n",
    "    \n"
   ]
  },
  {
   "cell_type": "markdown",
   "id": "7d0f6b3d",
   "metadata": {},
   "source": [
    "### Load DataSet"
   ]
  },
  {
   "cell_type": "code",
   "execution_count": 10,
   "id": "20196175",
   "metadata": {},
   "outputs": [
    {
     "data": {
      "text/html": [
       "<div>\n",
       "<style scoped>\n",
       "    .dataframe tbody tr th:only-of-type {\n",
       "        vertical-align: middle;\n",
       "    }\n",
       "\n",
       "    .dataframe tbody tr th {\n",
       "        vertical-align: top;\n",
       "    }\n",
       "\n",
       "    .dataframe thead th {\n",
       "        text-align: right;\n",
       "    }\n",
       "</style>\n",
       "<table border=\"1\" class=\"dataframe\">\n",
       "  <thead>\n",
       "    <tr style=\"text-align: right;\">\n",
       "      <th></th>\n",
       "      <th>age</th>\n",
       "      <th>affordibility</th>\n",
       "      <th>bought_insurance</th>\n",
       "    </tr>\n",
       "  </thead>\n",
       "  <tbody>\n",
       "    <tr>\n",
       "      <th>0</th>\n",
       "      <td>22</td>\n",
       "      <td>1</td>\n",
       "      <td>0</td>\n",
       "    </tr>\n",
       "    <tr>\n",
       "      <th>1</th>\n",
       "      <td>25</td>\n",
       "      <td>0</td>\n",
       "      <td>0</td>\n",
       "    </tr>\n",
       "    <tr>\n",
       "      <th>2</th>\n",
       "      <td>47</td>\n",
       "      <td>1</td>\n",
       "      <td>1</td>\n",
       "    </tr>\n",
       "    <tr>\n",
       "      <th>3</th>\n",
       "      <td>52</td>\n",
       "      <td>0</td>\n",
       "      <td>0</td>\n",
       "    </tr>\n",
       "    <tr>\n",
       "      <th>4</th>\n",
       "      <td>46</td>\n",
       "      <td>1</td>\n",
       "      <td>1</td>\n",
       "    </tr>\n",
       "  </tbody>\n",
       "</table>\n",
       "</div>"
      ],
      "text/plain": [
       "   age  affordibility  bought_insurance\n",
       "0   22              1                 0\n",
       "1   25              0                 0\n",
       "2   47              1                 1\n",
       "3   52              0                 0\n",
       "4   46              1                 1"
      ]
     },
     "execution_count": 10,
     "metadata": {},
     "output_type": "execute_result"
    }
   ],
   "source": [
    "df= pd.read_csv('dataset/insurance_data.csv')\n",
    "df.head()"
   ]
  },
  {
   "cell_type": "code",
   "execution_count": 11,
   "id": "38c0a2a0",
   "metadata": {},
   "outputs": [],
   "source": [
    "x = df[['age','affordibility']].to_numpy() \n",
    "y = df['bought_insurance'].to_numpy()"
   ]
  },
  {
   "cell_type": "code",
   "execution_count": 12,
   "id": "75844093",
   "metadata": {},
   "outputs": [],
   "source": [
    "def splits(x, y, train_ratio):\n",
    "    n = len(x)\n",
    "    train_size = int(n * train_ratio)\n",
    "    x_train = x[:train_size]\n",
    "    y_train = y[:train_size]\n",
    "    x_test = x[train_size:]\n",
    "    y_test = y[train_size:]\n",
    "    return x_train, y_train, x_test, y_test"
   ]
  },
  {
   "cell_type": "code",
   "execution_count": 13,
   "id": "9d7435ac",
   "metadata": {},
   "outputs": [],
   "source": [
    "TRAIN_RATIO = 0.8\n",
    "TEST_RATIO = 1 - TRAIN_RATIO"
   ]
  },
  {
   "cell_type": "code",
   "execution_count": 14,
   "id": "6d514fad",
   "metadata": {},
   "outputs": [],
   "source": [
    "x_train, y_train, x_test, y_test = splits(x, y, TRAIN_RATIO)"
   ]
  },
  {
   "cell_type": "code",
   "execution_count": 15,
   "id": "16e48dd7",
   "metadata": {},
   "outputs": [
    {
     "ename": "TypeError",
     "evalue": "'numpy.float64' object is not callable",
     "output_type": "error",
     "traceback": [
      "\u001b[0;31m---------------------------------------------------------------------------\u001b[0m",
      "\u001b[0;31mTypeError\u001b[0m                                 Traceback (most recent call last)",
      "Cell \u001b[0;32mIn[15], line 2\u001b[0m\n\u001b[1;32m      1\u001b[0m model\u001b[38;5;241m=\u001b[39m OneNeuron(input_size\u001b[38;5;241m=\u001b[39m[\u001b[38;5;241m2\u001b[39m,\u001b[38;5;241m1\u001b[39m] , output_size\u001b[38;5;241m=\u001b[39m\u001b[38;5;241m1\u001b[39m)\n\u001b[0;32m----> 2\u001b[0m \u001b[43mmodel\u001b[49m\u001b[38;5;241;43m.\u001b[39;49m\u001b[43mfit\u001b[49m\u001b[43m(\u001b[49m\u001b[43mx_train\u001b[49m\u001b[43m,\u001b[49m\u001b[43m \u001b[49m\u001b[43my_train\u001b[49m\u001b[43m,\u001b[49m\u001b[43m \u001b[49m\u001b[43mepochs\u001b[49m\u001b[38;5;241;43m=\u001b[39;49m\u001b[38;5;241;43m1000\u001b[39;49m\u001b[43m,\u001b[49m\u001b[43m \u001b[49m\u001b[43mlearning_rate\u001b[49m\u001b[38;5;241;43m=\u001b[39;49m\u001b[38;5;241;43m0.01\u001b[39;49m\u001b[43m)\u001b[49m\n",
      "Cell \u001b[0;32mIn[9], line 58\u001b[0m, in \u001b[0;36mOneNeuron.fit\u001b[0;34m(self, x, y_true, epochs, learning_rate)\u001b[0m\n\u001b[1;32m     56\u001b[0m \u001b[38;5;28;01mdef\u001b[39;00m\u001b[38;5;250m \u001b[39m\u001b[38;5;21mfit\u001b[39m(\u001b[38;5;28mself\u001b[39m,x,y_true,epochs,learning_rate):\n\u001b[1;32m     57\u001b[0m     \u001b[38;5;28;01mfor\u001b[39;00m i \u001b[38;5;129;01min\u001b[39;00m \u001b[38;5;28mrange\u001b[39m(epochs):\n\u001b[0;32m---> 58\u001b[0m         \u001b[38;5;28mself\u001b[39m\u001b[38;5;241m.\u001b[39mloss,\u001b[38;5;28mself\u001b[39m\u001b[38;5;241m.\u001b[39maccuracy\u001b[38;5;241m=\u001b[39m\u001b[38;5;28;43mself\u001b[39;49m\u001b[38;5;241;43m.\u001b[39;49m\u001b[43mtrain\u001b[49m\u001b[43m(\u001b[49m\u001b[43mx\u001b[49m\u001b[43m,\u001b[49m\u001b[43my_true\u001b[49m\u001b[43m,\u001b[49m\u001b[43mlearning_rate\u001b[49m\u001b[43m)\u001b[49m\n\u001b[1;32m     59\u001b[0m     \u001b[38;5;28mprint\u001b[39m(\u001b[38;5;124mf\u001b[39m\u001b[38;5;124m\"\u001b[39m\u001b[38;5;124mEpoch \u001b[39m\u001b[38;5;132;01m{\u001b[39;00mi\u001b[38;5;241m+\u001b[39m\u001b[38;5;241m1\u001b[39m\u001b[38;5;132;01m}\u001b[39;00m\u001b[38;5;124m/\u001b[39m\u001b[38;5;132;01m{\u001b[39;00mepochs\u001b[38;5;132;01m}\u001b[39;00m\u001b[38;5;124m, Loss: \u001b[39m\u001b[38;5;132;01m{\u001b[39;00m\u001b[38;5;28mself\u001b[39m\u001b[38;5;241m.\u001b[39mloss\u001b[38;5;132;01m}\u001b[39;00m\u001b[38;5;124m, Accuracy: \u001b[39m\u001b[38;5;132;01m{\u001b[39;00m\u001b[38;5;28mself\u001b[39m\u001b[38;5;241m.\u001b[39maccuracy\u001b[38;5;132;01m}\u001b[39;00m\u001b[38;5;124m\"\u001b[39m)\n",
      "Cell \u001b[0;32mIn[9], line 50\u001b[0m, in \u001b[0;36mOneNeuron.train\u001b[0;34m(self, x, y_true, learning_rate)\u001b[0m\n\u001b[1;32m     48\u001b[0m \u001b[38;5;28;01mdef\u001b[39;00m\u001b[38;5;250m \u001b[39m\u001b[38;5;21mtrain\u001b[39m(\u001b[38;5;28mself\u001b[39m,x,y_true,learning_rate):\n\u001b[1;32m     49\u001b[0m     y_pred\u001b[38;5;241m=\u001b[39m\u001b[38;5;28mself\u001b[39m\u001b[38;5;241m.\u001b[39mforward(x)\n\u001b[0;32m---> 50\u001b[0m     loss\u001b[38;5;241m=\u001b[39m\u001b[38;5;28;43mself\u001b[39;49m\u001b[38;5;241;43m.\u001b[39;49m\u001b[43mloss\u001b[49m\u001b[43m(\u001b[49m\u001b[43my_true\u001b[49m\u001b[43m,\u001b[49m\u001b[43my_pred\u001b[49m\u001b[43m)\u001b[49m\n\u001b[1;32m     51\u001b[0m     accuracy\u001b[38;5;241m=\u001b[39m\u001b[38;5;28mself\u001b[39m\u001b[38;5;241m.\u001b[39maccuracy(y_true,y_pred)\n\u001b[1;32m     52\u001b[0m     \u001b[38;5;28mself\u001b[39m\u001b[38;5;241m.\u001b[39mdw1,\u001b[38;5;28mself\u001b[39m\u001b[38;5;241m.\u001b[39mdw2,\u001b[38;5;28mself\u001b[39m\u001b[38;5;241m.\u001b[39mdb\u001b[38;5;241m=\u001b[39m\u001b[38;5;28mself\u001b[39m\u001b[38;5;241m.\u001b[39mderivative(x,y_true,y_pred)\n",
      "\u001b[0;31mTypeError\u001b[0m: 'numpy.float64' object is not callable"
     ]
    }
   ],
   "source": [
    "model= OneNeuron(input_size=[2,1] , output_size=1)\n",
    "model.fit(x_train, y_train, epochs=1000, learning_rate=0.01)"
   ]
  },
  {
   "cell_type": "code",
   "execution_count": null,
   "id": "dc0a89c0",
   "metadata": {},
   "outputs": [],
   "source": []
  }
 ],
 "metadata": {
  "kernelspec": {
   "display_name": ".deep",
   "language": "python",
   "name": "python3"
  },
  "language_info": {
   "codemirror_mode": {
    "name": "ipython",
    "version": 3
   },
   "file_extension": ".py",
   "mimetype": "text/x-python",
   "name": "python",
   "nbconvert_exporter": "python",
   "pygments_lexer": "ipython3",
   "version": "3.10.12"
  }
 },
 "nbformat": 4,
 "nbformat_minor": 5
}
