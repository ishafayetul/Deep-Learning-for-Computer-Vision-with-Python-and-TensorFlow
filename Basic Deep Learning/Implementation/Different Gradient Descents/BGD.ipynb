{
 "cells": [
  {
   "cell_type": "code",
   "execution_count": 115,
   "id": "f5224209",
   "metadata": {},
   "outputs": [],
   "source": [
    "import pandas as pd\n",
    "import numpy as np\n",
    "\n",
    "import matplotlib.pyplot as plt\n",
    "%matplotlib inline"
   ]
  },
  {
   "cell_type": "markdown",
   "id": "df8d3de9",
   "metadata": {},
   "source": [
    "# Data Loading"
   ]
  },
  {
   "cell_type": "code",
   "execution_count": 116,
   "id": "5543b6d5",
   "metadata": {},
   "outputs": [
    {
     "data": {
      "text/html": [
       "<div>\n",
       "<style scoped>\n",
       "    .dataframe tbody tr th:only-of-type {\n",
       "        vertical-align: middle;\n",
       "    }\n",
       "\n",
       "    .dataframe tbody tr th {\n",
       "        vertical-align: top;\n",
       "    }\n",
       "\n",
       "    .dataframe thead th {\n",
       "        text-align: right;\n",
       "    }\n",
       "</style>\n",
       "<table border=\"1\" class=\"dataframe\">\n",
       "  <thead>\n",
       "    <tr style=\"text-align: right;\">\n",
       "      <th></th>\n",
       "      <th>area</th>\n",
       "      <th>bedrooms</th>\n",
       "      <th>price</th>\n",
       "    </tr>\n",
       "  </thead>\n",
       "  <tbody>\n",
       "    <tr>\n",
       "      <th>0</th>\n",
       "      <td>1056</td>\n",
       "      <td>2</td>\n",
       "      <td>39.07</td>\n",
       "    </tr>\n",
       "    <tr>\n",
       "      <th>1</th>\n",
       "      <td>2600</td>\n",
       "      <td>4</td>\n",
       "      <td>120.00</td>\n",
       "    </tr>\n",
       "    <tr>\n",
       "      <th>2</th>\n",
       "      <td>1440</td>\n",
       "      <td>3</td>\n",
       "      <td>62.00</td>\n",
       "    </tr>\n",
       "    <tr>\n",
       "      <th>3</th>\n",
       "      <td>1521</td>\n",
       "      <td>3</td>\n",
       "      <td>75.00</td>\n",
       "    </tr>\n",
       "    <tr>\n",
       "      <th>4</th>\n",
       "      <td>1200</td>\n",
       "      <td>2</td>\n",
       "      <td>51.00</td>\n",
       "    </tr>\n",
       "  </tbody>\n",
       "</table>\n",
       "</div>"
      ],
      "text/plain": [
       "   area  bedrooms   price\n",
       "0  1056         2   39.07\n",
       "1  2600         4  120.00\n",
       "2  1440         3   62.00\n",
       "3  1521         3   75.00\n",
       "4  1200         2   51.00"
      ]
     },
     "execution_count": 116,
     "metadata": {},
     "output_type": "execute_result"
    }
   ],
   "source": [
    "dataset = pd.read_csv(\"homeprices_banglore.csv\")\n",
    "dataset.head()"
   ]
  },
  {
   "cell_type": "markdown",
   "id": "b7be6325",
   "metadata": {},
   "source": [
    "# Data Preprocessing"
   ]
  },
  {
   "cell_type": "markdown",
   "id": "31508592",
   "metadata": {},
   "source": [
    "### Scaling"
   ]
  },
  {
   "cell_type": "code",
   "execution_count": 117,
   "id": "5b92a988",
   "metadata": {},
   "outputs": [],
   "source": [
    "from sklearn import preprocessing\n",
    "sx = preprocessing.MinMaxScaler()\n",
    "sy = preprocessing.MinMaxScaler()\n",
    "sx.fit(dataset[['area','bedrooms']])\n",
    "sy.fit(dataset['price'].values.reshape(-1,1))\n",
    "\n",
    "def split_train_test(dataset,TRAIN_RATIO):\n",
    "    xy_train = dataset[:int(TRAIN_RATIO*dataset.shape[0])]\n",
    "    xy_test = dataset[int(TRAIN_RATIO*dataset.shape[0]):]\n",
    "    '''fit_transform does two things:\n",
    "    --> fit: Learn from the data (like computing the mean, standard deviation, min, max, etc.).\n",
    "    --> transform: Apply the scaling to the data.'''\n",
    "\n",
    "    x_train = sx.transform(xy_train.drop('price',axis=\"columns\"))\n",
    "    \n",
    "    '''taking values of 'prices' column, reshaping into 2D nparray as sy takes 2D input shape'''\n",
    "    y_train = sy.transform(xy_train['price'].values.reshape(-1,1)) # -1 means all rows\n",
    "\n",
    "    x_test = xy_test.drop('price',axis=\"columns\").values\n",
    "    y_test = xy_test['price'].values.reshape(-1,1)\n",
    "    \n",
    "    return x_train,y_train,x_test,y_test\n"
   ]
  },
  {
   "cell_type": "code",
   "execution_count": 118,
   "id": "2881455d",
   "metadata": {},
   "outputs": [],
   "source": [
    "x_train,y_train,x_test,y_test=split_train_test(dataset=dataset,TRAIN_RATIO=0.8)"
   ]
  },
  {
   "cell_type": "code",
   "execution_count": 119,
   "id": "577e2c2e",
   "metadata": {},
   "outputs": [],
   "source": [
    "def forward_pass(x, weights, bias):\n",
    "    y_pred = np.dot(weights,x.T)+bias\n",
    "    y_pred = y_pred.reshape(-1,1)\n",
    "    return y_pred\n",
    "\n",
    "def MeanSquareError(y_true, y_pred):\n",
    "    return np.mean(np.square(y_true-y_pred))\n",
    "    \n",
    "def derivative(x, y_true, y_pred):\n",
    "    total_samples=x.shape[0]\n",
    "    dw = -(2/total_samples)*(x.T.dot(y_true - y_pred))\n",
    "    db = -(2/total_samples)*np.sum(y_true-y_pred)\n",
    "    return dw , db\n",
    "\n",
    "def adjustWeight(weights, bias, dw, db, learning_rate):\n",
    "    weights = weights - learning_rate*dw[:,0]\n",
    "    bias = bias - learning_rate*db\n",
    "    return weights, bias\n",
    "\n",
    "def predict(x,weights,bias):\n",
    "    scaled_X = sx.fit_transform(x)\n",
    "    pred = forward_pass(scaled_X,weights,bias)\n",
    "    pred = sy.inverse_transform(pred)\n",
    "    return pred\n",
    "    \n",
    "\n",
    "def batch_gradient_descent(x,y_true,learning_rate,epoch):\n",
    "    number_of_features = x.shape[1] #number of colums are the features\n",
    "    weights=np.ones(shape=(number_of_features))\n",
    "    bias = 0\n",
    "\n",
    "    history = {'loss' : [], 'Epoch' : []}\n",
    "    for i in range(epoch):\n",
    "        y_pred = forward_pass(x, weights, bias)\n",
    "        loss = MeanSquareError(y_true,y_pred)\n",
    "        dw,db=derivative(x,y_true,y_pred)\n",
    "        weights, bias = adjustWeight(weights, bias, dw, db, learning_rate)\n",
    "        \n",
    "        if (i+1) % 100 == 0:\n",
    "            print(f\" Epoch {i+1}: loss: {loss}, weights: {weights}, bias: {bias}\")\n",
    "            history['loss'].append(loss)\n",
    "            history['Epoch'].append(i)\n",
    "    return history, [weights, bias]"
   ]
  },
  {
   "cell_type": "code",
   "execution_count": 120,
   "id": "80280bf3",
   "metadata": {},
   "outputs": [
    {
     "name": "stdout",
     "output_type": "stream",
     "text": [
      " Epoch 100: loss: 0.002374644059725611, weights: [0.72308231 0.50790426], bias: -0.14336816592087737\n",
      " Epoch 200: loss: 0.0020040255849647346, weights: [0.80493708 0.40274031], bias: -0.12129630884128616\n",
      " Epoch 300: loss: 0.001820301797773329, weights: [0.8625739  0.32869998], bias: -0.10575976408483084\n",
      " Epoch 400: loss: 0.0017292258441164647, weights: [0.90315457 0.27657001], bias: -0.09482086526374281\n",
      " Epoch 500: loss: 0.001684077475136539, weights: [0.93172642 0.23986658], bias: -0.08711905572632886\n",
      " Epoch 600: loss: 0.0016616964278929666, weights: [0.95184315 0.2140246 ], bias: -0.08169640111357483\n",
      " Epoch 700: loss: 0.0016506016466852193, weights: [0.96600685 0.1958299 ], bias: -0.07787844341072862\n",
      " Epoch 800: loss: 0.0016451017177181691, weights: [0.97597916 0.18301946], bias: -0.0751903133228493\n",
      " Epoch 900: loss: 0.0016423752810200355, weights: [0.98300042 0.17399994], bias: -0.07329766706226452\n",
      " Epoch 1000: loss: 0.0016410237259156927, weights: [0.98794392 0.16764952], bias: -0.07196510139371415\n",
      " Epoch 1100: loss: 0.0016403537300924535, weights: [0.99142451 0.16317834], bias: -0.07102687469072189\n",
      " Epoch 1200: loss: 0.001640021598312023, weights: [0.99387511 0.1600303 ], bias: -0.0703662923517176\n",
      " Epoch 1300: loss: 0.0016398569532265633, weights: [0.99560052 0.15781384], bias: -0.06990119257869624\n",
      " Epoch 1400: loss: 0.0016397753350082477, weights: [0.99681534 0.15625328], bias: -0.06957372727105474\n",
      " Epoch 1500: loss: 0.0016397348750483132, weights: [0.99767066 0.15515453], bias: -0.06934316700435722\n",
      " Epoch 1600: loss: 0.0016397148181493562, weights: [0.99827287 0.15438093], bias: -0.0691808351928977\n",
      " Epoch 1700: loss: 0.0016397048754999697, weights: [0.99869687 0.15383626], bias: -0.06906654135819153\n",
      " Epoch 1800: loss: 0.0016396999467082826, weights: [0.9989954  0.15345277], bias: -0.06898606988107071\n",
      " Epoch 1900: loss: 0.0016396975033969937, weights: [0.99920559 0.15318276], bias: -0.06892941189381663\n",
      " Epoch 2000: loss: 0.0016396962921934322, weights: [0.99935358 0.15299265], bias: -0.06888952039891008\n",
      " Epoch 2100: loss: 0.0016396956917729784, weights: [0.99945777 0.15285881], bias: -0.06886143377877053\n",
      " Epoch 2200: loss: 0.0016396953941312502, weights: [0.99953113 0.15276457], bias: -0.06884165868052691\n",
      " Epoch 2300: loss: 0.0016396952465836496, weights: [0.99958279 0.15269822], bias: -0.06882773552036722\n",
      " Epoch 2400: loss: 0.0016396951734410315, weights: [0.99961915 0.1526515 ], bias: -0.06881793256584111\n",
      " Epoch 2500: loss: 0.001639695137182616, weights: [0.99964476 0.15261861], bias: -0.06881103054673492\n",
      " Epoch 2600: loss: 0.0016396951192085155, weights: [0.99966278 0.15259545], bias: -0.06880617100488805\n",
      " Epoch 2700: loss: 0.0016396951102983553, weights: [0.99967548 0.15257914], bias: -0.06880274952102979\n",
      " Epoch 2800: loss: 0.001639695105881394, weights: [0.99968441 0.15256766], bias: -0.06880034053842163\n",
      " Epoch 2900: loss: 0.0016396951036918045, weights: [0.99969071 0.15255958], bias: -0.06879864443303396\n",
      " Epoch 3000: loss: 0.0016396951026063774, weights: [0.99969514 0.15255389], bias: -0.06879745024695855\n",
      " Epoch 3100: loss: 0.0016396951020683078, weights: [0.99969826 0.15254988], bias: -0.06879660944992269\n",
      " Epoch 3200: loss: 0.0016396951018015724, weights: [0.99970045 0.15254706], bias: -0.06879601746541521\n",
      " Epoch 3300: loss: 0.0016396951016693475, weights: [0.999702   0.15254507], bias: -0.06879560066368784\n",
      " Epoch 3400: loss: 0.0016396951016038014, weights: [0.99970309 0.15254368], bias: -0.06879530720384586\n",
      " Epoch 3500: loss: 0.0016396951015713102, weights: [0.99970385 0.15254269], bias: -0.06879510058599086\n",
      " Epoch 3600: loss: 0.0016396951015552011, weights: [0.99970439 0.152542  ], bias: -0.0687949551114425\n",
      " Epoch 3700: loss: 0.0016396951015472169, weights: [0.99970477 0.15254151], bias: -0.06879485268639199\n",
      " Epoch 3800: loss: 0.0016396951015432571, weights: [0.99970504 0.15254117], bias: -0.06879478057143376\n",
      " Epoch 3900: loss: 0.0016396951015412936, weights: [0.99970523 0.15254092], bias: -0.06879472979706587\n",
      " Epoch 4000: loss: 0.001639695101540321, weights: [0.99970536 0.15254075], bias: -0.06879469404808262\n",
      " Epoch 4100: loss: 0.001639695101539841, weights: [0.99970545 0.15254063], bias: -0.06879466887810311\n",
      " Epoch 4200: loss: 0.001639695101539601, weights: [0.99970552 0.15254055], bias: -0.06879465115653975\n",
      " Epoch 4300: loss: 0.0016396951015394837, weights: [0.99970557 0.15254049], bias: -0.06879463867922295\n",
      " Epoch 4400: loss: 0.0016396951015394245, weights: [0.9997056  0.15254045], bias: -0.06879462989425118\n",
      " Epoch 4500: loss: 0.0016396951015393948, weights: [0.99970562 0.15254042], bias: -0.06879462370896869\n",
      " Epoch 4600: loss: 0.00163969510153938, weights: [0.99970564 0.1525404 ], bias: -0.06879461935406339\n",
      " Epoch 4700: loss: 0.0016396951015393737, weights: [0.99970565 0.15254038], bias: -0.0687946162878818\n",
      " Epoch 4800: loss: 0.001639695101539369, weights: [0.99970566 0.15254037], bias: -0.06879461412905875\n",
      " Epoch 4900: loss: 0.001639695101539368, weights: [0.99970566 0.15254037], bias: -0.0687946126090845\n",
      " Epoch 5000: loss: 0.001639695101539369, weights: [0.99970567 0.15254036], bias: -0.06879461153890812\n"
     ]
    }
   ],
   "source": [
    "history, parameters = batch_gradient_descent(x_train,y_train,0.5,5000)"
   ]
  },
  {
   "cell_type": "code",
   "execution_count": 121,
   "id": "7bc6eff6",
   "metadata": {},
   "outputs": [
    {
     "data": {
      "text/plain": [
       "[<matplotlib.lines.Line2D at 0x71c05d9bb3a0>]"
      ]
     },
     "execution_count": 121,
     "metadata": {},
     "output_type": "execute_result"
    },
    {
     "data": {
      "image/png": "[encoded data removed]",
      "text/plain": [
       "<Figure size 640x480 with 1 Axes>"
      ]
     },
     "metadata": {},
     "output_type": "display_data"
    }
   ],
   "source": [
    "plt.xlabel = \"Epoch\"\n",
    "plt.ylabel = \"Loss\"\n",
    "plt.plot(history['Epoch'],history['loss'])"
   ]
  },
  {
   "cell_type": "code",
   "execution_count": 122,
   "id": "5e4a346e",
   "metadata": {},
   "outputs": [
    {
     "data": {
      "text/plain": [
       "[array([0.99970567, 0.15254036]), np.float64(-0.06879461153890812)]"
      ]
     },
     "execution_count": 122,
     "metadata": {},
     "output_type": "execute_result"
    }
   ],
   "source": [
    "parameters"
   ]
  },
  {
   "cell_type": "code",
   "execution_count": 123,
   "id": "7fd30e1e",
   "metadata": {},
   "outputs": [
    {
     "data": {
      "text/plain": [
       "array([[ 69.33862071],\n",
       "       [ 94.00141026],\n",
       "       [178.26594124],\n",
       "       [ 22.71272744]])"
      ]
     },
     "execution_count": 123,
     "metadata": {},
     "output_type": "execute_result"
    }
   ],
   "source": [
    "predict(x_test,parameters[0],parameters[1])"
   ]
  },
  {
   "cell_type": "code",
   "execution_count": 124,
   "id": "8b33de4f",
   "metadata": {},
   "outputs": [
    {
     "data": {
      "text/plain": [
       "array([[ 48.],\n",
       "       [ 60.],\n",
       "       [102.],\n",
       "       [ 32.]])"
      ]
     },
     "execution_count": 124,
     "metadata": {},
     "output_type": "execute_result"
    }
   ],
   "source": [
    "y_test"
   ]
  },
  {
   "cell_type": "code",
   "execution_count": null,
   "id": "5981b31f",
   "metadata": {},
   "outputs": [],
   "source": []
  }
 ],
 "metadata": {
  "kernelspec": {
   "display_name": ".deep",
   "language": "python",
   "name": "python3"
  },
  "language_info": {
   "codemirror_mode": {
    "name": "ipython",
    "version": 3
   },
   "file_extension": ".py",
   "mimetype": "text/x-python",
   "name": "python",
   "nbconvert_exporter": "python",
   "pygments_lexer": "ipython3",
   "version": "3.10.12"
  }
 },
 "nbformat": 4,
 "nbformat_minor": 5
}
