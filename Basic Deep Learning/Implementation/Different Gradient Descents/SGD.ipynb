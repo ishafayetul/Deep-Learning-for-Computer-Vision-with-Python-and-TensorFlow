{
 "cells": [
  {
   "cell_type": "code",
   "execution_count": 148,
   "id": "f5224209",
   "metadata": {},
   "outputs": [],
   "source": [
    "import pandas as pd\n",
    "import numpy as np\n",
    "\n",
    "import matplotlib.pyplot as plt\n",
    "%matplotlib inline"
   ]
  },
  {
   "cell_type": "markdown",
   "id": "df8d3de9",
   "metadata": {},
   "source": [
    "# Data Loading"
   ]
  },
  {
   "cell_type": "code",
   "execution_count": 149,
   "id": "5543b6d5",
   "metadata": {},
   "outputs": [
    {
     "data": {
      "text/html": [
       "<div>\n",
       "<style scoped>\n",
       "    .dataframe tbody tr th:only-of-type {\n",
       "        vertical-align: middle;\n",
       "    }\n",
       "\n",
       "    .dataframe tbody tr th {\n",
       "        vertical-align: top;\n",
       "    }\n",
       "\n",
       "    .dataframe thead th {\n",
       "        text-align: right;\n",
       "    }\n",
       "</style>\n",
       "<table border=\"1\" class=\"dataframe\">\n",
       "  <thead>\n",
       "    <tr style=\"text-align: right;\">\n",
       "      <th></th>\n",
       "      <th>area</th>\n",
       "      <th>bedrooms</th>\n",
       "      <th>price</th>\n",
       "    </tr>\n",
       "  </thead>\n",
       "  <tbody>\n",
       "    <tr>\n",
       "      <th>0</th>\n",
       "      <td>1056</td>\n",
       "      <td>2</td>\n",
       "      <td>39.07</td>\n",
       "    </tr>\n",
       "    <tr>\n",
       "      <th>1</th>\n",
       "      <td>2600</td>\n",
       "      <td>4</td>\n",
       "      <td>120.00</td>\n",
       "    </tr>\n",
       "    <tr>\n",
       "      <th>2</th>\n",
       "      <td>1440</td>\n",
       "      <td>3</td>\n",
       "      <td>62.00</td>\n",
       "    </tr>\n",
       "    <tr>\n",
       "      <th>3</th>\n",
       "      <td>1521</td>\n",
       "      <td>3</td>\n",
       "      <td>75.00</td>\n",
       "    </tr>\n",
       "    <tr>\n",
       "      <th>4</th>\n",
       "      <td>1200</td>\n",
       "      <td>2</td>\n",
       "      <td>51.00</td>\n",
       "    </tr>\n",
       "  </tbody>\n",
       "</table>\n",
       "</div>"
      ],
      "text/plain": [
       "   area  bedrooms   price\n",
       "0  1056         2   39.07\n",
       "1  2600         4  120.00\n",
       "2  1440         3   62.00\n",
       "3  1521         3   75.00\n",
       "4  1200         2   51.00"
      ]
     },
     "execution_count": 149,
     "metadata": {},
     "output_type": "execute_result"
    }
   ],
   "source": [
    "dataset = pd.read_csv(\"homeprices_banglore.csv\")\n",
    "dataset.head()"
   ]
  },
  {
   "cell_type": "markdown",
   "id": "b7be6325",
   "metadata": {},
   "source": [
    "# Data Preprocessing"
   ]
  },
  {
   "cell_type": "markdown",
   "id": "31508592",
   "metadata": {},
   "source": [
    "### Scaling"
   ]
  },
  {
   "cell_type": "code",
   "execution_count": 150,
   "id": "5b92a988",
   "metadata": {},
   "outputs": [],
   "source": [
    "from sklearn import preprocessing\n",
    "sx = preprocessing.MinMaxScaler()\n",
    "sy = preprocessing.MinMaxScaler()\n",
    "sx.fit(dataset[['area','bedrooms']])\n",
    "sy.fit(dataset['price'].values.reshape(-1,1))\n",
    "\n",
    "def split_train_test(dataset,TRAIN_RATIO):\n",
    "    xy_train = dataset[:int(TRAIN_RATIO*dataset.shape[0])]\n",
    "    xy_test = dataset[int(TRAIN_RATIO*dataset.shape[0]):]\n",
    "    '''fit_transform does two things:\n",
    "    --> fit: Learn from the data (like computing the mean, standard deviation, min, max, etc.).\n",
    "    --> transform: Apply the scaling to the data.'''\n",
    "\n",
    "    x_train = sx.transform(xy_train.drop('price',axis=\"columns\"))\n",
    "    \n",
    "    '''taking values of 'prices' column, reshaping into 2D nparray as sy takes 2D input shape'''\n",
    "    y_train = sy.transform(xy_train['price'].values.reshape(-1,1)) # -1 means all rows\n",
    "\n",
    "    x_test = xy_test.drop('price',axis=\"columns\").values\n",
    "    y_test = xy_test['price'].values.reshape(-1,1)\n",
    "    \n",
    "    return x_train,y_train,x_test,y_test\n"
   ]
  },
  {
   "cell_type": "code",
   "execution_count": 151,
   "id": "2881455d",
   "metadata": {},
   "outputs": [],
   "source": [
    "x_train,y_train,x_test,y_test=split_train_test(dataset=dataset,TRAIN_RATIO=0.8)"
   ]
  },
  {
   "cell_type": "code",
   "execution_count": 152,
   "id": "fbe6871e",
   "metadata": {},
   "outputs": [
    {
     "data": {
      "text/plain": [
       "array([0.22068966, 0.5       ])"
      ]
     },
     "execution_count": 152,
     "metadata": {},
     "output_type": "execute_result"
    }
   ],
   "source": [
    "x_train[2]"
   ]
  },
  {
   "cell_type": "code",
   "execution_count": 153,
   "id": "577e2c2e",
   "metadata": {},
   "outputs": [],
   "source": [
    "def forward_pass(x, weights, bias):\n",
    "    y_pred = np.dot(weights,x.T)+bias\n",
    "    y_pred = y_pred.reshape(-1,1)\n",
    "    return y_pred\n",
    "\n",
    "def MeanSquareError(y_true, y_pred):\n",
    "    return np.mean(np.square(y_true-y_pred))\n",
    "    \n",
    "def derivative(x, y_true, y_pred):\n",
    "    total_samples=x.shape[0]\n",
    "    dw = -(2/total_samples)*(x.T.dot(y_true - y_pred))\n",
    "    db = -(2/total_samples)*np.sum(y_true-y_pred)\n",
    "    return dw , db\n",
    "\n",
    "def adjustWeight(weights, bias, dw, db, learning_rate):\n",
    "    weights = weights - learning_rate*dw[:,0]\n",
    "    bias = bias - learning_rate*db\n",
    "    return weights, bias\n",
    "\n",
    "def predict(x,weights,bias):\n",
    "    scaled_X = sx.fit_transform(x)\n",
    "    pred = forward_pass(scaled_X,weights,bias)\n",
    "    pred = sy.inverse_transform(pred)\n",
    "    return pred\n",
    "    \n",
    "def selectData(x,y_true):\n",
    "    import random\n",
    "    index=random.randint(0,x.shape[0]-1)\n",
    "    x_train = x[index,0:2].reshape(1,-1)\n",
    "    y_train = y_true[index,0:1].reshape(1,-1)\n",
    "    \n",
    "    return x_train, y_train\n",
    "def stochastic_gradient_descent(x,y_true,learning_rate,epoch):\n",
    "    number_of_features = x.shape[1] #number of colums are the features\n",
    "    weights=np.ones(shape=(number_of_features))\n",
    "    print(weights.shape)\n",
    "    bias = 0\n",
    "\n",
    "    history = { 'loss': [], 'Epoch': []}\n",
    "    for i in range(epoch):\n",
    "        x_train, y_train = selectData(x, y_true)\n",
    "        y_pred = forward_pass(x_train, weights, bias)\n",
    "        loss = MeanSquareError(y_train,y_pred)\n",
    "        dw,db=derivative(x_train,y_train,y_pred)\n",
    "        weights, bias = adjustWeight(weights, bias, dw, db, learning_rate)\n",
    "        \n",
    "        if (i+1) % 100 ==0:\n",
    "            print(f\" Epoch {i+1}: loss: {loss}, weights: {weights}, bias: {bias}\")\n",
    "            history['loss'].append(loss)\n",
    "            history['Epoch'].append(i)\n",
    "    return history, [weights, bias]"
   ]
  },
  {
   "cell_type": "code",
   "execution_count": 154,
   "id": "80280bf3",
   "metadata": {},
   "outputs": [
    {
     "name": "stdout",
     "output_type": "stream",
     "text": [
      "(2,)\n",
      " Epoch 100: loss: 0.03193818638868077, weights: [0.67730942 0.50020453], bias: -0.28608723964848076\n",
      " Epoch 200: loss: 0.00046359321208273776, weights: [0.83954866 0.44608683], bias: -0.11909035325704032\n",
      " Epoch 300: loss: 0.0001591604528058644, weights: [0.80491354 0.44736204], bias: -0.10182931252923966\n",
      " Epoch 400: loss: 0.0014998344906655998, weights: [0.8937203  0.37998128], bias: -0.13102481332798216\n",
      " Epoch 500: loss: 0.005249888378688107, weights: [0.9300676  0.32653331], bias: -0.006811754772020173\n",
      " Epoch 600: loss: 0.008821294412068817, weights: [0.97830835 0.20214282], bias: -0.16617060639565712\n",
      " Epoch 700: loss: 0.000941908666435088, weights: [0.97837109 0.23145109], bias: -0.049567723897225746\n",
      " Epoch 800: loss: 0.0005036768728915151, weights: [0.87303111 0.16864346], bias: -0.0865600698484777\n",
      " Epoch 900: loss: 0.004622232820966312, weights: [1.10629197 0.15644676], bias: -0.08626475030703806\n",
      " Epoch 1000: loss: 0.021048278437370612, weights: [1.1015747 0.0868399], bias: -0.23451471782184394\n",
      " Epoch 1100: loss: 6.934629382664251e-05, weights: [1.02854339 0.07522233], bias: -0.0653377815674471\n",
      " Epoch 1200: loss: 0.10049868761093762, weights: [0.85075421 0.10036125], bias: 0.02259561359134249\n",
      " Epoch 1300: loss: 0.00018813524040016004, weights: [0.95688791 0.17743131], bias: -0.06215240952656942\n",
      " Epoch 1400: loss: 6.955292230748988e-07, weights: [0.98093714 0.20804723], bias: -0.08629313139102646\n",
      " Epoch 1500: loss: 0.002480966524531068, weights: [0.81849881 0.19435497], bias: -0.11249734496167219\n",
      " Epoch 1600: loss: 0.0006999815208507414, weights: [0.90152821 0.27139451], bias: -0.13633819386996182\n",
      " Epoch 1700: loss: 0.026961110243758513, weights: [0.82190412 0.13012017], bias: -0.2804210670625529\n",
      " Epoch 1800: loss: 0.0028478520494495197, weights: [0.97490829 0.24306702], bias: -0.09070606926160923\n",
      " Epoch 1900: loss: 0.02010212878029963, weights: [0.95902086 0.21696825], bias: -0.05555705189190041\n",
      " Epoch 2000: loss: 0.009561695105363392, weights: [1.10607821 0.20942084], bias: -0.15181940951609885\n",
      " Epoch 2100: loss: 0.0026782774076537104, weights: [0.96624121 0.16765657], bias: -0.040475126243297466\n",
      " Epoch 2200: loss: 0.0074127509068225746, weights: [0.91463375 0.1445682 ], bias: -0.07762969458529662\n",
      " Epoch 2300: loss: 0.004592761967810842, weights: [1.04218793 0.04978711], bias: 0.031865576496508716\n",
      " Epoch 2400: loss: 0.0006553819831239402, weights: [1.07176458 0.11823427], bias: -0.06776491172702323\n",
      " Epoch 2500: loss: 0.010073216694729907, weights: [1.17545396 0.12698949], bias: -0.06161851738654267\n",
      " Epoch 2600: loss: 0.0030611337300745067, weights: [1.10603945 0.07015212], bias: -0.058915129998570834\n",
      " Epoch 2700: loss: 0.0037960190282737226, weights: [1.05544824 0.15692582], bias: -0.07570082985868223\n",
      " Epoch 2800: loss: 0.001954179078163233, weights: [1.03267614 0.06316986], bias: -0.03959392931621453\n",
      " Epoch 2900: loss: 0.008178913667257705, weights: [1.14993614 0.12917657], bias: -0.0037682111927590523\n",
      " Epoch 3000: loss: 0.017733770257448888, weights: [1.14416719 0.18674142], bias: -0.005333800617555395\n",
      " Epoch 3100: loss: 0.0008887046538278576, weights: [0.92981079 0.09633109], bias: -0.02577408901702674\n",
      " Epoch 3200: loss: 0.02904365574634485, weights: [0.98173477 0.03540823], bias: -0.1842818100014395\n",
      " Epoch 3300: loss: 0.0029783236509073807, weights: [ 0.99516329 -0.08423615], bias: -0.0657648724882619\n",
      " Epoch 3400: loss: 0.0006871411563625301, weights: [0.98096176 0.05776891], bias: -0.09115742612214889\n",
      " Epoch 3500: loss: 0.0223774620029783, weights: [1.06932706 0.18253652], bias: -0.03444633530436769\n",
      " Epoch 3600: loss: 0.01974109735797494, weights: [0.95964106 0.18398239], bias: -0.15573595297251747\n",
      " Epoch 3700: loss: 0.0010745641938351546, weights: [0.84620874 0.09375719], bias: -0.0531523248567142\n",
      " Epoch 3800: loss: 0.004882424467047578, weights: [1.10401778 0.21644249], bias: -0.06455639376384745\n",
      " Epoch 3900: loss: 0.011482326529740796, weights: [0.84092768 0.08429855], bias: -0.09236249602595856\n",
      " Epoch 4000: loss: 0.026810924070531636, weights: [0.97026503 0.13270474], bias: -0.12224398059366232\n",
      " Epoch 4100: loss: 0.0005889214429346686, weights: [0.99203351 0.17148165], bias: -0.06950447062989326\n",
      " Epoch 4200: loss: 0.00473963405577661, weights: [0.88352393 0.0303572 ], bias: -0.05157112100966864\n",
      " Epoch 4300: loss: 0.00625187075613045, weights: [0.93359567 0.10386435], bias: -0.10686447100697366\n",
      " Epoch 4400: loss: 0.0038279054824792444, weights: [1.01911549 0.1113866 ], bias: -0.013917822299247928\n",
      " Epoch 4500: loss: 0.004137751366180609, weights: [1.03466395 0.12683499], bias: -0.14644431853744788\n",
      " Epoch 4600: loss: 0.001648039735410265, weights: [1.01572714 0.11110604], bias: -0.10040414885829385\n",
      " Epoch 4700: loss: 0.0005652028866440145, weights: [1.01090313 0.19968088], bias: -0.07679218306464794\n",
      " Epoch 4800: loss: 0.01905154684289741, weights: [1.06667004 0.14089242], bias: 0.10652191901830575\n",
      " Epoch 4900: loss: 0.002118142692001359, weights: [0.95309194 0.11822004], bias: 0.03680074892109281\n",
      " Epoch 5000: loss: 0.00025350509775936783, weights: [0.94256646 0.19442712], bias: -0.08056146382175361\n"
     ]
    }
   ],
   "source": [
    "history, parameters = stochastic_gradient_descent(x_train,y_train,0.5,5000)"
   ]
  },
  {
   "cell_type": "code",
   "execution_count": 155,
   "id": "ec510dec",
   "metadata": {},
   "outputs": [
    {
     "data": {
      "text/plain": [
       "[<matplotlib.lines.Line2D at 0x7e2690ee9060>]"
      ]
     },
     "execution_count": 155,
     "metadata": {},
     "output_type": "execute_result"
    },
    {
     "data": {
      "image/png": "[encoded data removed]",
      "text/plain": [
       "<Figure size 640x480 with 1 Axes>"
      ]
     },
     "metadata": {},
     "output_type": "display_data"
    }
   ],
   "source": [
    "plt.xlabel(\"Epoch\")\n",
    "plt.ylabel(\"Loss\")\n",
    "plt.plot(history['Epoch'],history['loss'])"
   ]
  },
  {
   "cell_type": "code",
   "execution_count": 156,
   "id": "064da679",
   "metadata": {},
   "outputs": [
    {
     "data": {
      "text/plain": [
       "[array([0.94256646, 0.19442712]), np.float64(-0.08056146382175361)]"
      ]
     },
     "execution_count": 156,
     "metadata": {},
     "output_type": "execute_result"
    }
   ],
   "source": [
    "parameters"
   ]
  },
  {
   "cell_type": "code",
   "execution_count": 157,
   "id": "ac0c792f",
   "metadata": {},
   "outputs": [
    {
     "data": {
      "text/plain": [
       "array([[ 71.91686797],\n",
       "       [ 95.17003031],\n",
       "       [174.61833497],\n",
       "       [ 21.12420238]])"
      ]
     },
     "execution_count": 157,
     "metadata": {},
     "output_type": "execute_result"
    }
   ],
   "source": [
    "predict(x_test,parameters[0],parameters[1])"
   ]
  },
  {
   "cell_type": "code",
   "execution_count": 158,
   "id": "d65294e4",
   "metadata": {},
   "outputs": [
    {
     "data": {
      "text/plain": [
       "array([[ 48.],\n",
       "       [ 60.],\n",
       "       [102.],\n",
       "       [ 32.]])"
      ]
     },
     "execution_count": 158,
     "metadata": {},
     "output_type": "execute_result"
    }
   ],
   "source": [
    "y_test"
   ]
  },
  {
   "cell_type": "code",
   "execution_count": null,
   "id": "efa61881",
   "metadata": {},
   "outputs": [],
   "source": []
  }
 ],
 "metadata": {
  "kernelspec": {
   "display_name": ".deep",
   "language": "python",
   "name": "python3"
  },
  "language_info": {
   "codemirror_mode": {
    "name": "ipython",
    "version": 3
   },
   "file_extension": ".py",
   "mimetype": "text/x-python",
   "name": "python",
   "nbconvert_exporter": "python",
   "pygments_lexer": "ipython3",
   "version": "3.10.12"
  }
 },
 "nbformat": 4,
 "nbformat_minor": 5
}
