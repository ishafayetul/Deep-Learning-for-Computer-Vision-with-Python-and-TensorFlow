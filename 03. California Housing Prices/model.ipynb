{
 "cells": [
  {
   "cell_type": "markdown",
   "id": "36a8b22f",
   "metadata": {},
   "source": [
    "**California Housing Prices**"
   ]
  },
  {
   "cell_type": "code",
   "execution_count": null,
   "id": "e2c211d6",
   "metadata": {},
   "outputs": [],
   "source": [
    "import os\n",
    "# os.environ['TF_CPP_MIN_LOG_LEVEL'] = '3' \n",
    "# os.environ[\"TF_XLA_FLAGS\"] = \"--tf_xla_auto_jit=2 --tf_xla_enable_xla_devices=false\"\n",
    "# os.environ[\"XLA_FLAGS\"] = \"--xla_gpu_autotune_level=0\"\n",
    "\n",
    "import pandas as pd\n",
    "import numpy as np \n",
    "import tensorflow as tf\n",
    "import matplotlib.pyplot as plt \n",
    "import seaborn as sns \n",
    "from tensorflow.keras.models import Sequential\n",
    "from tensorflow.keras.losses import MeanSquaredError\n",
    "from tensorflow.keras.optimizers import Adam\n",
    "from tensorflow.keras.layers import InputLayer,Dense, Normalization\n",
    "from tensorflow.keras.metrics import RootMeanSquaredError\n"
   ]
  },
  {
   "cell_type": "markdown",
   "id": "cd549448",
   "metadata": {},
   "source": [
    "**Loading and Visualization Dataset**"
   ]
  },
  {
   "cell_type": "code",
   "execution_count": null,
   "id": "b953dede",
   "metadata": {},
   "outputs": [],
   "source": [
    "data=pd.read_csv(\"housing.csv\")\n",
    "data.head()"
   ]
  },
  {
   "cell_type": "code",
   "execution_count": null,
   "id": "bca19066",
   "metadata": {},
   "outputs": [],
   "source": [
    "data_header=data.columns\n",
    "#sns.pairplot(data[data_header],diag_kind=\"kde\")"
   ]
  },
  {
   "cell_type": "markdown",
   "id": "5a7eefb1",
   "metadata": {},
   "source": [
    "**Data preparation**"
   ]
  },
  {
   "cell_type": "markdown",
   "id": "1669b6e4",
   "metadata": {},
   "source": [
    "*Data Cleaning*"
   ]
  },
  {
   "cell_type": "code",
   "execution_count": null,
   "id": "3f5df34d",
   "metadata": {},
   "outputs": [],
   "source": [
    "'''Checking is there any NaN value or not'''\n",
    "data.isna().sum()"
   ]
  },
  {
   "cell_type": "code",
   "execution_count": null,
   "id": "a9ba1647",
   "metadata": {},
   "outputs": [],
   "source": [
    "data.mean(numeric_only=True)"
   ]
  },
  {
   "cell_type": "code",
   "execution_count": null,
   "id": "fb55e712",
   "metadata": {},
   "outputs": [],
   "source": [
    "'''Filling nan value with mean'''\n",
    "data=data.fillna(data.mean(numeric_only=True))\n",
    "data.isna().sum().sum()"
   ]
  },
  {
   "cell_type": "code",
   "execution_count": null,
   "id": "a555db46",
   "metadata": {},
   "outputs": [],
   "source": [
    "data.dtypes"
   ]
  },
  {
   "cell_type": "code",
   "execution_count": null,
   "id": "0750f079",
   "metadata": {},
   "outputs": [],
   "source": [
    "tensor_data=tf.random.shuffle(tf.constant(data.select_dtypes([\"float64\"])))\n",
    "tensor_data[:5]"
   ]
  },
  {
   "cell_type": "code",
   "execution_count": null,
   "id": "0cebafed",
   "metadata": {},
   "outputs": [],
   "source": [
    "x=tensor_data[:,:-1]\n",
    "x.shape"
   ]
  },
  {
   "cell_type": "code",
   "execution_count": null,
   "id": "b9a7f8f3",
   "metadata": {},
   "outputs": [],
   "source": [
    "y=tf.expand_dims(tensor_data[:,-1],1)\n",
    "y.shape"
   ]
  },
  {
   "cell_type": "markdown",
   "id": "378d2ef5",
   "metadata": {},
   "source": [
    "*Data Spliting*"
   ]
  },
  {
   "cell_type": "code",
   "execution_count": null,
   "id": "1555a209",
   "metadata": {},
   "outputs": [],
   "source": [
    "TRAIN_RATIO = 0.8\n",
    "VAL_RATIO = 0.1\n",
    "TEST_RATIO = 0.1\n",
    "DATASET_SIZE=len(x)"
   ]
  },
  {
   "cell_type": "code",
   "execution_count": null,
   "id": "9e8d3fdf",
   "metadata": {},
   "outputs": [],
   "source": [
    "x_train=x[:int(DATASET_SIZE*TRAIN_RATIO)]\n",
    "y_train=y[:int(DATASET_SIZE*TRAIN_RATIO)]"
   ]
  },
  {
   "cell_type": "code",
   "execution_count": null,
   "id": "d3930f4b",
   "metadata": {},
   "outputs": [],
   "source": [
    "x_val=x[int(DATASET_SIZE*TRAIN_RATIO):int(DATASET_SIZE*(TRAIN_RATIO+VAL_RATIO))]\n",
    "y_val=y[int(DATASET_SIZE*TRAIN_RATIO):int(DATASET_SIZE*(TRAIN_RATIO+VAL_RATIO))]"
   ]
  },
  {
   "cell_type": "code",
   "execution_count": null,
   "id": "dbc6c98b",
   "metadata": {},
   "outputs": [],
   "source": [
    "x_test=x[int(DATASET_SIZE*(TRAIN_RATIO+VAL_RATIO)):]\n",
    "y_test=y[int(DATASET_SIZE*(TRAIN_RATIO+VAL_RATIO)):]"
   ]
  },
  {
   "cell_type": "code",
   "execution_count": null,
   "id": "2baa9fd0",
   "metadata": {},
   "outputs": [],
   "source": [
    "normalizer=Normalization()\n",
    "normalizer.adapt(x_train)\n",
    "#normalizer(x_train)[:5]"
   ]
  },
  {
   "cell_type": "markdown",
   "id": "dd209363",
   "metadata": {},
   "source": [
    "**Model Preparation**"
   ]
  },
  {
   "cell_type": "code",
   "execution_count": null,
   "id": "4b0b3f35",
   "metadata": {},
   "outputs": [],
   "source": [
    "model=Sequential([InputLayer(shape=(x_train.shape[1],)),\n",
    "                  normalizer,\n",
    "                  Dense(128,activation='relu'),\n",
    "                  Dense(128,activation='relu'),\n",
    "                  Dense(128,activation='relu'),\n",
    "                  Dense(128,activation='relu'),\n",
    "                  Dense(128,activation='relu'),\n",
    "                  Dense(1)\n",
    "                  ])\n",
    "# model.summary()\n",
    "# tf.keras.utils.plot_model(model,\"model.png\",True)"
   ]
  },
  {
   "cell_type": "code",
   "execution_count": null,
   "id": "6fb00189",
   "metadata": {},
   "outputs": [],
   "source": [
    "model.compile(optimizer=Adam(learning_rate=0.2),\n",
    "              loss=MeanSquaredError(),\n",
    "              metrics=[RootMeanSquaredError])"
   ]
  },
  {
   "cell_type": "markdown",
   "id": "a80e6155",
   "metadata": {},
   "source": [
    "**Model Training**"
   ]
  },
  {
   "cell_type": "code",
   "execution_count": null,
   "id": "35e34736",
   "metadata": {},
   "outputs": [],
   "source": [
    "history=model.fit(x_train,y_train,validation_data=(x_val,y_val),epochs=100,verbose=1)"
   ]
  },
  {
   "cell_type": "code",
   "execution_count": null,
   "id": "027dd9ba",
   "metadata": {},
   "outputs": [],
   "source": [
    "plt.plot(history.history[\"loss\"])\n",
    "plt.plot(history.history[\"val_loss\"])\n",
    "plt.title(\"model loss\")\n",
    "plt.xlabel(\"epoch\")\n",
    "plt.ylabel(\"loss\")\n",
    "plt.legend(['train loss','val_loss'])\n",
    "plt.show()"
   ]
  },
  {
   "cell_type": "code",
   "execution_count": null,
   "id": "5cf8d5c3",
   "metadata": {},
   "outputs": [],
   "source": [
    "plt.plot(history.history[\"root_mean_squared_error\"])\n",
    "plt.plot(history.history[\"val_root_mean_squared_error\"])\n",
    "plt.title(\"model performance\")\n",
    "plt.xlabel(\"epoch\")\n",
    "plt.ylabel(\"rmse\")\n",
    "plt.legend(['train error',\"val error\"])\n",
    "plt.show()"
   ]
  },
  {
   "cell_type": "code",
   "execution_count": null,
   "id": "f84aef38",
   "metadata": {},
   "outputs": [],
   "source": [
    "model.evaluate(x_test,y_test)"
   ]
  },
  {
   "cell_type": "code",
   "execution_count": null,
   "id": "019c0854",
   "metadata": {},
   "outputs": [],
   "source": [
    "y_true = list(y_test[:,0].numpy())\n",
    "y_pred = list(model.predict(x_test)[:,0])\n",
    "print(y_true)\n",
    "print(y_pred)"
   ]
  },
  {
   "cell_type": "code",
   "execution_count": null,
   "id": "bf753edd",
   "metadata": {},
   "outputs": [],
   "source": [
    "ind = np.arange(len(x_test))\n",
    "plt.figure(figsize=(20,5))\n",
    "\n",
    "width = 0.4\n",
    "\n",
    "plt.bar(ind, y_pred, width, label='Predicted House Price')\n",
    "plt.bar(ind + width, y_true, width, label='Actual House Price')\n",
    "\n",
    "plt.xlabel('Actual vs Predicted Prices')\n",
    "plt.ylabel('House Prices')\n",
    "\n",
    "plt.show()"
   ]
  },
  {
   "cell_type": "code",
   "execution_count": null,
   "id": "10814f2a",
   "metadata": {},
   "outputs": [],
   "source": []
  }
 ],
 "metadata": {
  "kernelspec": {
   "display_name": ".deep",
   "language": "python",
   "name": "python3"
  },
  "language_info": {
   "codemirror_mode": {
    "name": "ipython",
    "version": 3
   },
   "file_extension": ".py",
   "mimetype": "text/x-python",
   "name": "python",
   "nbconvert_exporter": "python",
   "pygments_lexer": "ipython3",
   "version": "3.10.12"
  }
 },
 "nbformat": 4,
 "nbformat_minor": 5
}
