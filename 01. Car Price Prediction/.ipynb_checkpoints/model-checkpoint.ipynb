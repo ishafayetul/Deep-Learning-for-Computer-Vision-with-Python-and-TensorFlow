{
 "cells": [
  {
   "cell_type": "code",
   "execution_count": 2,
   "id": "c1f88b1d",
   "metadata": {},
   "outputs": [
    {
     "name": "stdout",
     "output_type": "stream",
     "text": [
      "   v.id  on road old  on road now  years      km  rating  condition  economy  \\\n",
      "0     1       535651       798186      3   78945       1          2       14   \n",
      "1     2       591911       861056      6  117220       5          9        9   \n",
      "2     3       686990       770762      2  132538       2          8       15   \n",
      "3     4       573999       722381      4  101065       4          3       11   \n",
      "4     5       691388       811335      6   61559       3          9       12   \n",
      "\n",
      "   top speed  hp  torque  current price  \n",
      "0        177  73     123       351318.0  \n",
      "1        148  74      95       285001.5  \n",
      "2        181  53      97       215386.0  \n",
      "3        197  54     116       244295.5  \n",
      "4        160  53     105       531114.5  \n"
     ]
    }
   ],
   "source": [
    "import os\n",
    "os.environ['TF_CPP_MIN_LOG_LEVEL'] = '3'  # 0 = all logs, 1 = filter INFO, 2 = filter WARNING, 3 = only errors\n",
    "import tensorflow as tf\n",
    "import pandas as pd \n",
    "import seaborn as sns\n",
    "df=pd.read_csv(\"train.csv\")\n",
    "header=df.columns.to_list()\n",
    "\n",
    "print(df.head())\n"
   ]
  },
  {
   "cell_type": "code",
   "execution_count": null,
   "id": "9a3e09b8",
   "metadata": {},
   "outputs": [],
   "source": []
  }
 ],
 "metadata": {
  "kernelspec": {
   "display_name": ".deep",
   "language": "python",
   "name": "python3"
  },
  "language_info": {
   "codemirror_mode": {
    "name": "ipython",
    "version": 3
   },
   "file_extension": ".py",
   "mimetype": "text/x-python",
   "name": "python",
   "nbconvert_exporter": "python",
   "pygments_lexer": "ipython3",
   "version": "3.10.12"
  }
 },
 "nbformat": 4,
 "nbformat_minor": 5
}
